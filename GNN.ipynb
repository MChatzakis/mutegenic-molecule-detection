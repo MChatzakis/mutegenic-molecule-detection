{
 "cells": [
  {
   "cell_type": "markdown",
   "metadata": {},
   "source": [
    "# 🎉 Graph Neural Network Classification Architectures for Mutagenic Molecule Detection 🎉\n",
    "\n",
    "Emmanouil Chatzakis (emmanouil.chatzakis@epfl.ch)\n",
    "\n",
    "October 2023, EPFL\n",
    "\n",
    "In this notebook, we employ Graph Neural Networks (GNNs) classify molecule data as mutagenic (positive class) or non-mutagenic (negative class). For our training and testing, we use the MUTAG dataset, a collection of 188 molecule graphs, labelled as either mutagenic or non mutagenic. The nodes of the graphs included in the dataset represent atoms, while the edges represent chemical bonds between them. \n",
    "\n",
    "Every node of MUTAG is associated with a collection of features (node features), describing the atom (7 features per node). In addition, every edge is associated with a collection of features (4 features per edge) describing the bond (edge features)."
   ]
  },
  {
   "cell_type": "markdown",
   "metadata": {},
   "source": [
    "## Contents 👨🏽‍💻\n",
    "\n"
   ]
  },
  {
   "cell_type": "markdown",
   "metadata": {},
   "source": [
    "The notebook is partioned in three parts:\n",
    "\n",
    "- Part 1: Definition and implementation of different Graph Neural Network layers, including Normal Convolution, GraphSAGE and Graph Attention. \n",
    "\n",
    "- Part 2: Tuning, Training and Testing of the different architectures for graph classification, using only the node features provided by MUTAG. \n",
    "\n",
    "- Part 3: Implementation and Evaluation of a solution to incorporate the edge features provided by MUTAG."
   ]
  },
  {
   "cell_type": "markdown",
   "metadata": {},
   "source": [
    "##### Here we importing the libraries, make sure that the latest versions of them are installed."
   ]
  },
  {
   "cell_type": "code",
   "execution_count": 2,
   "metadata": {},
   "outputs": [
    {
     "name": "stdout",
     "output_type": "stream",
     "text": [
      "The autoreload extension is already loaded. To reload it, use:\n",
      "  %reload_ext autoreload\n"
     ]
    }
   ],
   "source": [
    "import numpy as np\n",
    "\n",
    "import random\n",
    "import torch\n",
    "\n",
    "import torch.nn as nn\n",
    "\n",
    "import matplotlib.pyplot as plt\n",
    "\n",
    "from tqdm import tqdm\n",
    "from sklearn.metrics import roc_auc_score, average_precision_score, roc_curve\n",
    "from torch.utils.data import DataLoader\n",
    "\n",
    "# Local imports\n",
    "import train_utils\n",
    "import utils\n",
    "\n",
    "# Set the seeds for reproducibility\n",
    "SEED = 42\n",
    "random.seed(SEED)\n",
    "np.random.seed(SEED)\n",
    "torch.manual_seed(SEED)\n",
    "\n",
    "# Make sure changes to external files are automatically reloaded\n",
    "%load_ext autoreload\n",
    "%autoreload 2"
   ]
  },
  {
   "cell_type": "markdown",
   "metadata": {},
   "source": [
    "## Part 1: Implementing Different Graph Convolution and Pooling Layers 👨🏽‍💻\n",
    "\n",
    "In this part, we implement different Graph Neural Network layers in pure PyTorch (without geometric). We implement 3 basic graph layers, including Normal Graph Convolution, GraphSAGE and Graph Attention.\n",
    "\n",
    "In addition, we implement pooling layers, including Mean and Max pooling, to be used with GraphSAGE as aggregation modules."
   ]
  },
  {
   "cell_type": "markdown",
   "metadata": {},
   "source": [
    "### Normal Convolution Layer\n",
    "\n",
    "A layer performing basic graph convolution by aggregating the node features of the neighbors of each node."
   ]
  },
  {
   "cell_type": "code",
   "execution_count": 3,
   "metadata": {},
   "outputs": [],
   "source": [
    "class GraphConv(nn.Module):\n",
    "    \"\"\"\n",
    "    Basic graph convolutional layer implementing the simple neighborhood aggregation.\n",
    "    \"\"\"\n",
    "\n",
    "    def __init__(self, in_features, out_features, activation=None):\n",
    "        \"\"\"\n",
    "        Initialize the graph convolutional layer.\n",
    "\n",
    "        Args:\n",
    "            in_features (int): number of input node features.\n",
    "            out_features (int): number of output node features.\n",
    "            activation (nn.Module or callable): activation function to apply. (optional), e.g. nn.ReLU().\n",
    "        \"\"\"\n",
    "        super().__init__()\n",
    "\n",
    "        self.in_features = in_features\n",
    "        self.out_features = out_features\n",
    "        self.activation = activation\n",
    "\n",
    "        self.weight = nn.Linear(in_features, out_features, bias=False)\n",
    "        self.bias = nn.Linear(in_features, out_features, bias=False)\n",
    "\n",
    "    def forward(self, H, adj):\n",
    "        \"\"\"\n",
    "        Perform graph convolution operation.\n",
    "\n",
    "        Args:\n",
    "            H (Tensor): Input node features of shape (num_nodes, in_features).\n",
    "            adj (Tensor): Adjacency matrix of the graph, shape (num_nodes, num_nodes).\n",
    "\n",
    "        Returns:\n",
    "            Tensor: Output node features after graph convolution, shape (num_nodes, out_features).\n",
    "        \"\"\"\n",
    "\n",
    "        # Neighbourhood aggregation: This versions normalizes the adjacency matrix by diving each row with the\n",
    "        # neiggbors of the corresponding node.\n",
    "        # Clamp is used to avoid division by zero.\n",
    "        adj = adj / adj.sum(1, keepdim=True).clamp(min=1)\n",
    "\n",
    "        # Aggregation is performed by multiplying the adjacency matrix with the node features\n",
    "        x_agg = torch.matmul(adj, H)\n",
    "\n",
    "        # Perform graph convolution\n",
    "        output = self.weight(x_agg) + self.bias(H)\n",
    "\n",
    "        # Apply activation function (e.g., ReLU) if given\n",
    "        if self.activation is not None:\n",
    "            output = self.activation(output)\n",
    "\n",
    "        return output"
   ]
  },
  {
   "cell_type": "code",
   "execution_count": 4,
   "metadata": {},
   "outputs": [
    {
     "name": "stdout",
     "output_type": "stream",
     "text": [
      "Adj Shape: torch.Size([5, 5])\n",
      "h Shape: torch.Size([5, 7])\n",
      "\n",
      "Output Shape: torch.Size([5, 2])\n",
      "tensor([[ 0.0852,  0.3782],\n",
      "        [-0.3630,  0.1931],\n",
      "        [-0.0945,  0.2055],\n",
      "        [-0.6086, -0.1176],\n",
      "        [-0.3996,  0.1187]], grad_fn=<AddBackward0>)\n"
     ]
    }
   ],
   "source": [
    "# Test that the layer is operational\n",
    "features = 7\n",
    "nodes = 5\n",
    "adj = torch.randint(0, 2, (nodes, nodes)).float()\n",
    "h = torch.rand(nodes, features)\n",
    "\n",
    "print(\"Adj Shape:\", adj.shape)\n",
    "print(\"h Shape:\", h.shape)\n",
    "print()\n",
    "\n",
    "conv = GraphConv(features, 2)\n",
    "out = conv.forward(h, adj)\n",
    "\n",
    "print(\"Output Shape:\", out.shape)\n",
    "print(out)"
   ]
  },
  {
   "cell_type": "markdown",
   "metadata": {},
   "source": [
    "### Pooling Layers\n",
    "\n",
    "Here we implement two basic pooling layers, which apply Mean and Max neighborhood aggregation."
   ]
  },
  {
   "cell_type": "code",
   "execution_count": 5,
   "metadata": {},
   "outputs": [],
   "source": [
    "class MeanPoolAggregation(nn.Module):\n",
    "    \"\"\"\n",
    "    Aggregate node features by averaging over the neighborhood.\n",
    "    \"\"\"\n",
    "\n",
    "    def __init__(self):\n",
    "        super().__init__()\n",
    "\n",
    "    def forward(self, H, adj):\n",
    "        \"\"\"Perform mean pooling over the neighborhood.\n",
    "\n",
    "\n",
    "        Args:\n",
    "            H (tensor): node features of shape (num_nodes, num_features).\n",
    "            adj (tensor): adjacency matrix of shape (num_nodes, num_nodes).\n",
    "\n",
    "        Returns:\n",
    "            tensor (num_nodes, num_features): aggregated node features.\n",
    "        \"\"\"\n",
    "\n",
    "        # Normalize the adjacency matrix\n",
    "        degree = torch.sum(adj, dim=1, keepdim=True).clamp(min=1)\n",
    "        adj = adj / degree\n",
    "\n",
    "        # Aggregate neighborhood information using mean\n",
    "        x_agg = torch.matmul(adj, H)\n",
    "        return x_agg\n",
    "\n",
    "\n",
    "class MaxPoolAggregation(nn.Module):\n",
    "    \"\"\"\n",
    "    Aggregate node features by taking the maximum over the transformed neighborhood.\n",
    "    \"\"\"\n",
    "\n",
    "    def __init__(self):\n",
    "        super().__init__()\n",
    "\n",
    "    def forward(self, H, adj):\n",
    "        \"\"\"Perform max pooling over the neighborhood.\n",
    "\n",
    "\n",
    "        Args:\n",
    "            H (tensor): node features of shape (num_nodes, num_features).\n",
    "            adj (tensor): adjacency matrix of shape (num_nodes, num_nodes).\n",
    "\n",
    "        Returns:\n",
    "            tensor (num_nodes, num_features): aggregated node features.\n",
    "        \"\"\"\n",
    "\n",
    "        # Aggregate neighborhood information using max-pooling\n",
    "        edge_index = torch.triu(adj).nonzero(as_tuple=False).t()\n",
    "        x_agg = torch.zeros_like(H)\n",
    "\n",
    "        # Loop on all nodes\n",
    "        for i in range(x_agg.shape[0]):\n",
    "            neighbors = H[edge_index[1, edge_index[0] == i]]\n",
    "            if neighbors.shape[0] > 0:\n",
    "                x_agg[i] = neighbors.max(dim=0)[0]\n",
    "\n",
    "        return x_agg"
   ]
  },
  {
   "cell_type": "code",
   "execution_count": 6,
   "metadata": {},
   "outputs": [
    {
     "name": "stdout",
     "output_type": "stream",
     "text": [
      "h Shape: torch.Size([3, 5])\n",
      "tensor([[0.3313, 0.3227, 0.0162, 0.2137, 0.6249],\n",
      "        [0.4340, 0.1371, 0.5117, 0.1585, 0.0758],\n",
      "        [0.2247, 0.0624, 0.1816, 0.9998, 0.5944]])\n",
      "\n",
      "Mean Pooling\n",
      "tensor([[0.3300, 0.1741, 0.2365, 0.4573, 0.4317],\n",
      "        [0.3300, 0.1741, 0.2365, 0.4573, 0.4317],\n",
      "        [0.3300, 0.1741, 0.2365, 0.4573, 0.4317]])\n",
      "\n",
      "Max Pooling\n",
      "tensor([[0.4340, 0.3227, 0.5117, 0.9998, 0.6249],\n",
      "        [0.4340, 0.1371, 0.5117, 0.9998, 0.5944],\n",
      "        [0.2247, 0.0624, 0.1816, 0.9998, 0.5944]])\n"
     ]
    }
   ],
   "source": [
    "# Test that max and mean pooling layers are operational\n",
    "features = 5\n",
    "nodes = 3\n",
    "adj = torch.randint(0, 2, (nodes, nodes)).float()\n",
    "h = torch.rand(nodes, features)\n",
    "\n",
    "print(\"h Shape:\", h.shape)\n",
    "print(h)\n",
    "\n",
    "print()\n",
    "\n",
    "meanPool = MeanPoolAggregation()\n",
    "maxPool = MaxPoolAggregation()\n",
    "\n",
    "print(\"Mean Pooling\")\n",
    "print(meanPool.forward(h, adj))\n",
    "\n",
    "print()\n",
    "\n",
    "print(\"Max Pooling\")\n",
    "print(maxPool.forward(h, adj))"
   ]
  },
  {
   "cell_type": "markdown",
   "metadata": {},
   "source": [
    "### GraphSAGE Layer\n",
    "\n",
    "Here we imlpement the concat-based GraphSAGE layer, which uses an aggregation operation in the neighborhood of a node, and concats the aggregated neighbor features with the features of the node. "
   ]
  },
  {
   "cell_type": "code",
   "execution_count": 7,
   "metadata": {},
   "outputs": [],
   "source": [
    "class GraphSAGEConv(nn.Module):\n",
    "    \"\"\"GraphSAGE convolutional layer.\"\"\"\n",
    "\n",
    "    def __init__(self, in_features, out_features, aggregation, activation=None):\n",
    "        \"\"\"\n",
    "        Initialize the GraphSAGE convolutional layer.\n",
    "\n",
    "        Args:\n",
    "            in_features (int): number of input node features.\n",
    "            out_features (int): number of output node features.\n",
    "            aggregation (nn.Module or callable): aggregation function to apply, as x_agg = aggegration(x, adj).\n",
    "            activation (nn.Module or callable): activation function to apply. (optional)\n",
    "        \"\"\"\n",
    "        super().__init__()\n",
    "\n",
    "        self.in_features = in_features\n",
    "        self.out_features = out_features\n",
    "        self.aggregation = aggregation\n",
    "        self.activation = activation\n",
    "\n",
    "        # Because of the concat performed by this layer, the input dimension for\n",
    "        # the weight is twice the number of input features\n",
    "        self.weight = nn.Linear(2 * in_features, out_features, bias=False)\n",
    "\n",
    "    def forward(self, H, adj):\n",
    "        \"\"\"\n",
    "        Perform graph convolution operation.\n",
    "\n",
    "        Args:\n",
    "            H (Tensor): Input node features of shape (num_nodes, in_features).\n",
    "            adj (Tensor): Adjacency matrix of the graph, typically sparse, shape (num_nodes, num_nodes).\n",
    "\n",
    "        Returns:\n",
    "            Tensor: Output node features after graph convolution, shape (num_nodes, out_features).\n",
    "        \"\"\"\n",
    "        # print(f\"Forward start. Feature shape:{H.shape}\")\n",
    "\n",
    "        # Perform the selected aggregation to the features matrix\n",
    "        agg_features = self.aggregation(H, adj)\n",
    "\n",
    "        # Concat the agreegated features with the original features\n",
    "        concat_features = torch.cat((H, agg_features), dim=1)\n",
    "\n",
    "        # Perform graph convolution\n",
    "        output = self.weight(concat_features)\n",
    "\n",
    "        # Apply activation function (e.g., ReLU) if given\n",
    "        if self.activation is not None:\n",
    "            output = self.activation(output)\n",
    "\n",
    "        return output"
   ]
  },
  {
   "cell_type": "code",
   "execution_count": 8,
   "metadata": {},
   "outputs": [
    {
     "name": "stdout",
     "output_type": "stream",
     "text": [
      "Adj Shape: torch.Size([5, 5])\n",
      "h Shape: torch.Size([5, 7])\n",
      "\n",
      "Output Shape: torch.Size([5, 2])\n",
      "tensor([[0.0643, 0.0000],\n",
      "        [0.0000, 0.1195],\n",
      "        [0.2484, 0.1580],\n",
      "        [0.0434, 0.2160],\n",
      "        [0.0000, 0.0326]], grad_fn=<ReluBackward0>)\n"
     ]
    }
   ],
   "source": [
    "# Check that the layer is operational\n",
    "features = 7\n",
    "nodes = 5\n",
    "adj = torch.randint(0, 2, (nodes, nodes)).float()\n",
    "h = torch.rand(nodes, features)\n",
    "\n",
    "print(\"Adj Shape:\", adj.shape)\n",
    "print(\"h Shape:\", h.shape)\n",
    "print()\n",
    "\n",
    "sage = GraphSAGEConv(features, 2, MeanPoolAggregation(), nn.ReLU())\n",
    "output = sage(h, adj)\n",
    "\n",
    "print(\"Output Shape:\", output.shape)\n",
    "print(output)"
   ]
  },
  {
   "cell_type": "markdown",
   "metadata": {},
   "source": [
    "### Attention-based Convolution Layer"
   ]
  },
  {
   "cell_type": "code",
   "execution_count": 9,
   "metadata": {},
   "outputs": [],
   "source": [
    "class GraphAttnConv(nn.Module):\n",
    "    \"\"\"\n",
    "    Implementation of the graph attentional convolutional layer.\n",
    "    \"\"\"\n",
    "\n",
    "    def __init__(self, in_features, out_features, activation=None):\n",
    "        \"\"\"Initialize the graph convolutional layer.\n",
    "\n",
    "        Args:\n",
    "            in_features (int): number of input node features.\n",
    "            out_features (int): number of output node features.\n",
    "            activation (nn.Module or callable): activation function to apply. (optional), e.g. nn.ReLU().\n",
    "        \"\"\"\n",
    "        super().__init__()\n",
    "\n",
    "        self.in_features = in_features\n",
    "        self.out_features = out_features\n",
    "        self.activation = activation\n",
    "\n",
    "        # Weight or S parameter of the attention mechanism\n",
    "        self.W = nn.Parameter(torch.empty(size=(in_features, out_features)))\n",
    "\n",
    "        # Alpha parameter of the attention mechanism\n",
    "        self.a = nn.Parameter(torch.empty(size=(2 * out_features, 1)))\n",
    "\n",
    "        # In bibliography, Weights and Alpha are initialized like this\n",
    "        # Without initialization, the outputs of the layer were 0\n",
    "        nn.init.xavier_uniform_(self.W.data)\n",
    "        nn.init.xavier_uniform_(self.a.data)\n",
    "\n",
    "        # LeakyReLU activation is used for attention\n",
    "        self.leakyrelu = nn.LeakyReLU()\n",
    "\n",
    "    def forward(self, H, adj):\n",
    "        \"\"\"Perform a forward pass of graph attentional convolution.\n",
    "\n",
    "        Args:\n",
    "            H (tensor): Node features of shape (num_nodes, in_features).\n",
    "            adj (tensor): Adjacency matrix of shape (num_nodes, num_nodes).\n",
    "\n",
    "        Returns:\n",
    "            tensor: Attention-processed features of shape (num_nodes, out_features).\n",
    "        \"\"\"\n",
    "\n",
    "        # Step 1: Calculate H' = WH as in the formlula\n",
    "        Wh = torch.mm(H, self.W)\n",
    "\n",
    "        # Step 2: Calculate the attention score e\n",
    "        Wh1 = torch.matmul(Wh, self.a[: self.out_features, :])\n",
    "        Wh2 = torch.matmul(Wh, self.a[self.out_features :, :])\n",
    "        e = self.leakyrelu(Wh1 + Wh2.T)\n",
    "\n",
    "        # Step 3: Calculate the attention weights a\n",
    "        zero_vec = -9e15 * torch.ones_like(\n",
    "            e\n",
    "        )  # Use as an almost zero value for the attention weights (trick that improved performance)\n",
    "        a = torch.where(adj > 0, e, zero_vec)\n",
    "        a = torch.nn.functional.softmax(a, dim=1)\n",
    "\n",
    "        # Step 4: Calculate the output of the layer using the attention weights\n",
    "        out = torch.matmul(a, Wh)\n",
    "\n",
    "        # Step 5: Apply activation function (e.g., ReLU) if given\n",
    "        if self.activation is not None:\n",
    "            out = self.activation(out)\n",
    "\n",
    "        return out"
   ]
  },
  {
   "cell_type": "code",
   "execution_count": 10,
   "metadata": {},
   "outputs": [
    {
     "name": "stdout",
     "output_type": "stream",
     "text": [
      "Adj Shape: torch.Size([7, 7])\n",
      "tensor([[0., 1., 0., 0., 1., 0., 1.],\n",
      "        [1., 1., 0., 0., 0., 0., 0.],\n",
      "        [0., 0., 1., 0., 1., 0., 0.],\n",
      "        [0., 1., 1., 1., 1., 0., 1.],\n",
      "        [0., 0., 1., 1., 1., 1., 1.],\n",
      "        [1., 1., 1., 0., 1., 1., 0.],\n",
      "        [1., 0., 0., 1., 0., 0., 0.]])\n",
      "\n",
      "h Shape: torch.Size([7, 5])\n",
      "tensor([[0.8087, 0.3396, 0.1332, 0.4118, 0.2576],\n",
      "        [0.3470, 0.0240, 0.7797, 0.1519, 0.7513],\n",
      "        [0.7269, 0.8572, 0.1165, 0.8596, 0.2636],\n",
      "        [0.6855, 0.9696, 0.4295, 0.4961, 0.3849],\n",
      "        [0.0825, 0.7400, 0.0036, 0.8104, 0.8741],\n",
      "        [0.9729, 0.3821, 0.0892, 0.6124, 0.7762],\n",
      "        [0.0023, 0.3865, 0.2003, 0.4563, 0.2539]])\n",
      "\n",
      "Output Shape: torch.Size([7, 2])\n",
      "tensor([[-0.6916, -0.9793],\n",
      "        [-0.4357, -0.8214],\n",
      "        [-0.7577, -0.9667],\n",
      "        [-0.6931, -0.9524],\n",
      "        [-0.7329, -0.9733],\n",
      "        [-0.6110, -0.9237],\n",
      "        [-0.4925, -0.7648]], grad_fn=<MmBackward0>)\n"
     ]
    }
   ],
   "source": [
    "# Some minimalistic testing\n",
    "\n",
    "FEATURES = 5\n",
    "NODES = 7\n",
    "OUT_FEATURES = 4\n",
    "\n",
    "adj = torch.randint(0, 2, (NODES, NODES)).float()\n",
    "h = torch.rand(NODES, FEATURES)\n",
    "\n",
    "print(\"Adj Shape:\", adj.shape)\n",
    "print(adj)\n",
    "print()\n",
    "\n",
    "print(\"h Shape:\", h.shape)\n",
    "print(h)\n",
    "print()\n",
    "\n",
    "gat1 = GraphAttnConv(FEATURES, OUT_FEATURES)\n",
    "gat2 = GraphAttnConv(OUT_FEATURES, 2)\n",
    "\n",
    "output1 = gat1(h, adj)\n",
    "output2 = gat2(output1, adj)\n",
    "\n",
    "print(\"Output Shape:\", output2.shape)\n",
    "print(output2)"
   ]
  },
  {
   "cell_type": "markdown",
   "metadata": {},
   "source": [
    "### Layers are ready! Lets check if they can be stacked together!"
   ]
  },
  {
   "cell_type": "code",
   "execution_count": 12,
   "metadata": {},
   "outputs": [
    {
     "name": "stdout",
     "output_type": "stream",
     "text": [
      "Adj Shape: torch.Size([6, 6])\n",
      "tensor([[0., 1., 0., 1., 0., 1.],\n",
      "        [1., 1., 1., 1., 1., 0.],\n",
      "        [0., 0., 1., 1., 1., 1.],\n",
      "        [0., 0., 1., 0., 0., 1.],\n",
      "        [0., 1., 0., 1., 1., 1.],\n",
      "        [1., 0., 1., 1., 1., 0.]])\n",
      "\n",
      "h Shape: torch.Size([6, 3])\n",
      "tensor([[0.2088, 0.4931, 0.5275],\n",
      "        [0.6227, 0.6943, 0.9345],\n",
      "        [0.1184, 0.5150, 0.2502],\n",
      "        [0.1045, 0.4600, 0.0599],\n",
      "        [0.8489, 0.5579, 0.2305],\n",
      "        [0.7613, 0.0268, 0.3066]])\n",
      "\n",
      "torch.Size([6, 7])\n",
      "tensor([[-0.1948, -0.0072, -0.0015,  0.1047, -0.1344,  0.1674, -0.0635],\n",
      "        [-0.2173, -0.0034, -0.0029,  0.1106, -0.1421,  0.1600, -0.0741],\n",
      "        [-0.2193, -0.0182, -0.0536,  0.1596, -0.1260,  0.2203, -0.0928],\n",
      "        [-0.2003, -0.0250, -0.0455,  0.1549, -0.1288,  0.2229, -0.0852],\n",
      "        [-0.2166, -0.0067, -0.0166,  0.1205, -0.1333,  0.1784, -0.0767],\n",
      "        [-0.2301, -0.0090, -0.0357,  0.1426, -0.1339,  0.1919, -0.0905]],\n",
      "       grad_fn=<MmBackward0>)\n"
     ]
    }
   ],
   "source": [
    "# Make an overall test to stack the layers\n",
    "FEATURES = 3\n",
    "NODES = 6\n",
    "\n",
    "adj = torch.randint(0, 2, (NODES, NODES)).float()\n",
    "h = torch.rand(NODES, FEATURES)\n",
    "\n",
    "print(\"Adj Shape:\", adj.shape)\n",
    "print(adj)\n",
    "print()\n",
    "\n",
    "print(\"h Shape:\", h.shape)\n",
    "print(h)\n",
    "print()\n",
    "\n",
    "conv1 = GraphConv(FEATURES, 8)\n",
    "conv2 = GraphConv(8, 4)\n",
    "gat1 = GraphAttnConv(4, 3)\n",
    "sage1 = GraphSAGEConv(3, 7, MeanPoolAggregation())\n",
    "\n",
    "conv1_out = conv1(h, adj)\n",
    "conv2_out = conv2(conv1_out, adj)\n",
    "gat1_out = gat1(conv2_out, adj)\n",
    "sage1_out = sage1(gat1_out, adj)\n",
    "\n",
    "print(sage1_out.shape)\n",
    "print(sage1_out)"
   ]
  },
  {
   "cell_type": "markdown",
   "metadata": {},
   "source": [
    "That was it for part 1!"
   ]
  },
  {
   "cell_type": "markdown",
   "metadata": {},
   "source": [
    "## Part 2: Custom Network Design with Node Features 👨🏽‍💻\n",
    "\n",
    "In this part, we will load and process the data, and experiment with the layers of the previous part using only the node features of the dataset."
   ]
  },
  {
   "cell_type": "markdown",
   "metadata": {},
   "source": [
    "### Define the Graph Neural Network Model\n",
    "\n",
    "We define a PyTorch module representing a tunable Graph Neural Network. The network can use all type of layers, both as single layer architectures or combinations of them.\n",
    "\n",
    "By default, the Normal Convolution Layers are first, then the Attention Layers and GraphSAGE layers last. Feel free to change the order! "
   ]
  },
  {
   "cell_type": "code",
   "execution_count": 13,
   "metadata": {},
   "outputs": [],
   "source": [
    "class GNN(nn.Module):\n",
    "    \"\"\"Module representing a full graph neural network.\"\"\"\n",
    "\n",
    "    def __init__(\n",
    "        self,\n",
    "        num_features,\n",
    "        num_classes,\n",
    "        normal_conv_dims,\n",
    "        attn_dims,\n",
    "        sage_data,\n",
    "        dropout=0.2,\n",
    "        name=None,\n",
    "    ):\n",
    "        \"\"\"Initialize a custom graph neural network.\n",
    "\n",
    "        Args:\n",
    "            num_features (int): The number of input features.\n",
    "            num_classes (int): The number of classification classes.\n",
    "            normal_conv_dims (list of ints): The dimensions of the hidden layers of the normal convolutions.\n",
    "            attn_dims (list of ints): The dimensions of the hidden layers of the attention convolutions.\n",
    "            sage_data (list of ints): The dimensions of the hidden layers of the GraphSAGE convolutions.\n",
    "            dropout (float, optional): Dropout rate. Defaults to 0.2.\n",
    "            name (str, optional): An optional name for the model. Used for Testing. Defaults to None.\n",
    "                If none is selected, the model will auto-generate a name based on its parameters.\n",
    "        \"\"\"\n",
    "        super().__init__()\n",
    "\n",
    "        self.dropout = dropout\n",
    "        self.num_features = num_features\n",
    "        self.num_classes = num_classes\n",
    "        self.normal_conv_dims = normal_conv_dims\n",
    "        self.attn_dims = attn_dims\n",
    "        self.sage_data = sage_data\n",
    "\n",
    "        # Add all the layers to the module list\n",
    "        next_dim_size = num_features\n",
    "\n",
    "        self.conv_layers = nn.ModuleList()\n",
    "        for dim in normal_conv_dims:\n",
    "            self.conv_layers.append(GraphConv(next_dim_size, dim, nn.ReLU()))\n",
    "            next_dim_size = dim\n",
    "\n",
    "        for dim in attn_dims:\n",
    "            self.conv_layers.append(GraphAttnConv(next_dim_size, dim, nn.ReLU()))\n",
    "            next_dim_size = dim\n",
    "\n",
    "        for dim, aggr in sage_data:\n",
    "            self.conv_layers.append(GraphSAGEConv(next_dim_size, dim, aggr, nn.ReLU()))\n",
    "            next_dim_size = dim\n",
    "\n",
    "        # Add the final linear layer for predictions\n",
    "        self.head = nn.Linear(next_dim_size, num_classes)\n",
    "\n",
    "        # Generate the name of the model used for testing\n",
    "        if name == None:\n",
    "            self.name = self._generate_network_name()\n",
    "        else:\n",
    "            self.name = name\n",
    "\n",
    "    def forward(self, X, adj):\n",
    "        \"\"\"Perform a forward pass of the model.\n",
    "\n",
    "        Args:\n",
    "            X (tensor): Input features of shape (num_nodes, num_features).\n",
    "            adj (tensor): Adjacency matrix of shape (num_nodes, num_nodes).\n",
    "\n",
    "        Returns:\n",
    "            tensor: Output logits in the shape (1, num_classes)\n",
    "        \"\"\"\n",
    "\n",
    "        # Perform the forward pass of all the graph convolution layers\n",
    "        for layer in self.conv_layers:\n",
    "            X = layer(X, adj)\n",
    "\n",
    "        # print(\"X shape before pool\", X.shape)\n",
    "\n",
    "        # Transform the node features into a flattened representation to pass to the linear layer\n",
    "        # The \"flattening\" is just the mean, transforming X from (num_nodes, num_features) to (1, num_features)\n",
    "        X = utils.avg_pool(X)\n",
    "\n",
    "        # Perform dropout (by default we use it here)\n",
    "        X = torch.nn.functional.dropout(X, p=self.dropout, training=self.training)\n",
    "\n",
    "        # Perform the linear forward to generate the logits\n",
    "        X = self.head(X)\n",
    "\n",
    "        return X\n",
    "\n",
    "    def _generate_network_name(self):\n",
    "        \"\"\"Generate the model name based on its parameters.\n",
    "\n",
    "        Returns:\n",
    "            str: name of the model\n",
    "        \"\"\"\n",
    "        name = \"\"\n",
    "\n",
    "        if self.normal_conv_dims:\n",
    "            name += \"Conv\"\n",
    "            for dim in self.normal_conv_dims:\n",
    "                name += f\"-{dim}\"\n",
    "\n",
    "        if self.attn_dims:\n",
    "            name += \"Attn\"\n",
    "            for dim in self.attn_dims:\n",
    "                name += f\"-{dim}\"\n",
    "\n",
    "        if self.sage_data:\n",
    "            name += \"Sage\"\n",
    "            for dim, _ in self.sage_data:\n",
    "                name += f\"-{dim}\"\n",
    "\n",
    "        return name"
   ]
  },
  {
   "cell_type": "code",
   "execution_count": 14,
   "metadata": {},
   "outputs": [
    {
     "name": "stdout",
     "output_type": "stream",
     "text": [
      "Adj Shape: torch.Size([418, 418])\n",
      "tensor([[0., 1., 1.,  ..., 0., 0., 1.],\n",
      "        [1., 0., 1.,  ..., 0., 0., 1.],\n",
      "        [1., 0., 1.,  ..., 1., 1., 1.],\n",
      "        ...,\n",
      "        [0., 1., 0.,  ..., 0., 1., 0.],\n",
      "        [0., 0., 1.,  ..., 1., 1., 0.],\n",
      "        [0., 0., 0.,  ..., 0., 1., 1.]])\n",
      "h Shape: torch.Size([418, 450])\n",
      "Logits Shape: torch.Size([1, 2])\n",
      "Logits: tensor([[-0.1858,  0.0486]], grad_fn=<AddmmBackward0>)\n",
      "Softmax: tensor([[0.4417, 0.5583]], grad_fn=<SoftmaxBackward0>)\n",
      "Class: tensor(1)\n"
     ]
    }
   ],
   "source": [
    "# Some testing to see that the module is operational\n",
    "FEATURES = 450\n",
    "NODES = 418\n",
    "\n",
    "adj = torch.randint(0, 2, (NODES, NODES)).float()\n",
    "h = torch.rand(NODES, FEATURES)\n",
    "\n",
    "print(\"Adj Shape:\", adj.shape)\n",
    "print(adj)\n",
    "\n",
    "print(\"h Shape:\", h.shape)\n",
    "\n",
    "n = GNN(FEATURES, 2, [512, 128], [64, 32], [(32, MeanPoolAggregation())])\n",
    "\n",
    "logits = n(h, adj)\n",
    "\n",
    "probs = torch.softmax(logits, dim=1)\n",
    "argmax_index = torch.argmax(probs)\n",
    "\n",
    "print(\"Logits Shape:\", logits.shape)\n",
    "print(\"Logits:\", logits)\n",
    "\n",
    "print(\"Softmax:\", probs)\n",
    "\n",
    "print(\"Class:\", argmax_index)"
   ]
  },
  {
   "cell_type": "markdown",
   "metadata": {},
   "source": [
    "### Load data and create training, validation and test sets.\n",
    "\n",
    "We load the MUTAG data. For this verion of the notebook, we discard some mutagenic graph to balance the number of demonstrations of positive and negative classes to ensure stability during training. \n",
    "\n",
    "During loading, we also calculate the adj matrix from the edge list provided for each graph. For each graph example, we have two versions of the adj matrix. The raw version is the matrix as it is (without 1s in the diagonal) while the processed versioned contains 1s in the diagonal to ensure that the features of each node are used in convolution."
   ]
  },
  {
   "cell_type": "code",
   "execution_count": 15,
   "metadata": {},
   "outputs": [
    {
     "name": "stderr",
     "output_type": "stream",
     "text": [
      "Found cached dataset json (/Users/manoschatzakis/.cache/huggingface/datasets/graphs-datasets___json/graphs-datasets--MUTAG-a0cf78a2615b5c11/0.0.0/e347ab1c932092252e717ff3f949105a4dd28b27e842dd53157d2f72e276c2e4)\n"
     ]
    },
    {
     "data": {
      "application/vnd.jupyter.widget-view+json": {
       "model_id": "133e5a0c07614b9b9016406a960783fe",
       "version_major": 2,
       "version_minor": 0
      },
      "text/plain": [
       "  0%|          | 0/1 [00:00<?, ?it/s]"
      ]
     },
     "metadata": {},
     "output_type": "display_data"
    },
    {
     "name": "stdout",
     "output_type": "stream",
     "text": [
      "Number of graphs: 126\n",
      "Data keys: dict_keys(['edge_index', 'node_feat', 'edge_attr', 'y', 'num_nodes', 'adjacency_matrix', 'adjacency_matrix_raw'])\n",
      "\n",
      "Number of training graphs: 88\n",
      "Number of validation graphs: 19\n",
      "Number of test graphs: 19\n",
      "\n",
      "Train: (mutagenic, non-mutagenic) (44, 44)\n",
      "Val: (mutagenic, non-mutagenic) (10, 9)\n",
      "Test: (mutagenic, non-mutagenic) (9, 10)\n"
     ]
    }
   ],
   "source": [
    "# Load the data and discard some mutagenic graphs to balance the dataset\n",
    "# When loading the data, we calculate the adj matrix\n",
    "mutag_data = utils.load_and_balance_MUTAG()\n",
    "\n",
    "# Uncomment the following line to use the unbalanced dataset\n",
    "# mutag_data = utils.load_MUTAG()\n",
    "\n",
    "MUTAG_NUM_CLASSES = 2\n",
    "MUTAG_NUM_FEATURES = mutag_data[0][\"node_feat\"].shape[1]\n",
    "\n",
    "# Balanced split\n",
    "mutag_train, mutag_val, mutag_test = utils.fair_train_test_split(mutag_data, 0.7, 0.15)\n",
    "\n",
    "# Print some basic stats\n",
    "print(\"Number of graphs:\", len(mutag_data))\n",
    "print(\"Data keys:\", mutag_data[0].keys())\n",
    "\n",
    "print(\"\\nNumber of training graphs:\", len(mutag_train))\n",
    "print(\"Number of validation graphs:\", len(mutag_val))\n",
    "print(\"Number of test graphs:\", len(mutag_test))\n",
    "\n",
    "print()\n",
    "print(\"Train: (mutagenic, non-mutagenic)\", utils.count_classes(mutag_train))\n",
    "print(\"Val: (mutagenic, non-mutagenic)\", utils.count_classes(mutag_val))\n",
    "print(\"Test: (mutagenic, non-mutagenic)\", utils.count_classes(mutag_test))\n",
    "\n",
    "# Define the dataloaders\n",
    "train_dataloader = DataLoader(mutag_train, batch_size=1, shuffle=True)\n",
    "val_dataloader = DataLoader(mutag_val, batch_size=1, shuffle=True)\n",
    "test_dataloader = DataLoader(mutag_test, batch_size=1, shuffle=True)"
   ]
  },
  {
   "cell_type": "markdown",
   "metadata": {},
   "source": [
    "### Model Tuning!\n",
    "\n",
    "Now, we will focus on tuning the hyperparameters of the Graph Neural Network, such as defining good layer size and number, as well as defining the learning rate for each type of layer to be used."
   ]
  },
  {
   "cell_type": "markdown",
   "metadata": {},
   "source": [
    "#### Lets try a simple example!\n",
    "\n",
    "Before starting, we test a simple training loop with a single model to make sure everything works smoothly."
   ]
  },
  {
   "cell_type": "code",
   "execution_count": 16,
   "metadata": {},
   "outputs": [
    {
     "name": "stderr",
     "output_type": "stream",
     "text": [
      "Training GNN: 100%|██████████| 5/5 [00:00<00:00, 20.24epoch/s]"
     ]
    },
    {
     "name": "stdout",
     "output_type": "stream",
     "text": [
      "0: Train Loss: 0.7163, Val Loss: 0.7079, Train Accuracy 0.5000, Val Accuracy: 0.4737, Train F1 Score: 0.0000, Val F1 Score: 0.0000\n",
      "4: Train Loss: 0.5703, Val Loss: 0.7458, Train Accuracy 0.7386, Val Accuracy: 0.5263, Train F1 Score: 0.7629, Val F1 Score: 0.5714\n"
     ]
    },
    {
     "name": "stderr",
     "output_type": "stream",
     "text": [
      "\n"
     ]
    },
    {
     "data": {
      "image/png": "[encoded data removed]",
      "text/plain": [
       "<Figure size 1200x400 with 3 Axes>"
      ]
     },
     "metadata": {},
     "output_type": "display_data"
    }
   ],
   "source": [
    "epochs = 5\n",
    "model = GNN(\n",
    "    MUTAG_NUM_FEATURES,\n",
    "    MUTAG_NUM_CLASSES,\n",
    "    normal_conv_dims=[5, 3],\n",
    "    attn_dims=[],\n",
    "    sage_data=[],\n",
    "    name=\"Test GNN\",\n",
    "    dropout=0.3,\n",
    ")\n",
    "\n",
    "criterion = nn.CrossEntropyLoss()\n",
    "lr = 0.01\n",
    "optimizer = torch.optim.Adam(model.parameters(), lr=lr)\n",
    "results = train_utils.train_model(\n",
    "    model,\n",
    "    train_dataloader,\n",
    "    val_dataloader,\n",
    "    epochs,\n",
    "    criterion,\n",
    "    optimizer,\n",
    "    verbose=True,\n",
    ")\n",
    "\n",
    "test_acc, _, test_f1_score, mutagenic, nonmutagenic = train_utils.test(\n",
    "    test_dataloader, model, criterion\n",
    ")\n",
    "\n",
    "utils.plot_training_loop_summary(results, None)"
   ]
  },
  {
   "cell_type": "markdown",
   "metadata": {},
   "source": [
    "#### Tune the dimensions and layer size of the models\n",
    "\n",
    "We start our evaluation by comparing the performance of single-type layer combinations of different sizes and numbers, and we keep all the other parameters constant. We keep the best-performing models of each layer type."
   ]
  },
  {
   "cell_type": "code",
   "execution_count": 17,
   "metadata": {},
   "outputs": [
    {
     "name": "stdout",
     "output_type": "stream",
     "text": [
      ">>> Training Conv-256-16-8 model\n"
     ]
    },
    {
     "name": "stderr",
     "output_type": "stream",
     "text": [
      "Training GNN: 100%|██████████| 300/300 [00:17<00:00, 16.88epoch/s]\n"
     ]
    },
    {
     "name": "stdout",
     "output_type": "stream",
     "text": [
      "Model Conv-256-16-8 test accuracy: 0.6316\n",
      ">>> Training Conv-256-168 model\n"
     ]
    },
    {
     "name": "stderr",
     "output_type": "stream",
     "text": [
      "Training GNN: 100%|██████████| 300/300 [00:25<00:00, 11.85epoch/s]\n"
     ]
    },
    {
     "name": "stdout",
     "output_type": "stream",
     "text": [
      "Model Conv-256-168 test accuracy: 0.6316\n",
      ">>> Training Conv-16-4 model\n"
     ]
    },
    {
     "name": "stderr",
     "output_type": "stream",
     "text": [
      "Training GNN: 100%|██████████| 300/300 [00:11<00:00, 25.50epoch/s]\n"
     ]
    },
    {
     "name": "stdout",
     "output_type": "stream",
     "text": [
      "Model Conv-16-4 test accuracy: 0.4737\n",
      ">>> Training Conv-32-12 model\n"
     ]
    },
    {
     "name": "stderr",
     "output_type": "stream",
     "text": [
      "Training GNN: 100%|██████████| 300/300 [00:11<00:00, 25.14epoch/s]\n"
     ]
    },
    {
     "name": "stdout",
     "output_type": "stream",
     "text": [
      "Model Conv-32-12 test accuracy: 0.4737\n",
      "===== Best model for conv is Conv-256-16-8 with accuracy 0.631578947368421 =====\n",
      "\n",
      ">>> Training Attn-32-8 model\n"
     ]
    },
    {
     "name": "stderr",
     "output_type": "stream",
     "text": [
      "Training GNN: 100%|██████████| 300/300 [00:15<00:00, 19.00epoch/s]\n"
     ]
    },
    {
     "name": "stdout",
     "output_type": "stream",
     "text": [
      "Model Attn-32-8 test accuracy: 0.4737\n",
      ">>> Training Attn-256-16 model\n"
     ]
    },
    {
     "name": "stderr",
     "output_type": "stream",
     "text": [
      "Training GNN: 100%|██████████| 300/300 [00:17<00:00, 17.61epoch/s]\n"
     ]
    },
    {
     "name": "stdout",
     "output_type": "stream",
     "text": [
      "Model Attn-256-16 test accuracy: 0.6316\n",
      ">>> Training Attn-16-4 model\n"
     ]
    },
    {
     "name": "stderr",
     "output_type": "stream",
     "text": [
      "Training GNN: 100%|██████████| 300/300 [00:15<00:00, 19.07epoch/s]\n"
     ]
    },
    {
     "name": "stdout",
     "output_type": "stream",
     "text": [
      "Model Attn-16-4 test accuracy: 0.6842\n",
      ">>> Training Attn-32-12 model\n"
     ]
    },
    {
     "name": "stderr",
     "output_type": "stream",
     "text": [
      "Training GNN: 100%|██████████| 300/300 [00:16<00:00, 18.14epoch/s]\n"
     ]
    },
    {
     "name": "stdout",
     "output_type": "stream",
     "text": [
      "Model Attn-32-12 test accuracy: 0.5263\n",
      "===== Best model for attn is Attn-16-4 with accuracy 0.6842105263157895 =====\n",
      "\n",
      ">>> Training Sage-32 model\n"
     ]
    },
    {
     "name": "stderr",
     "output_type": "stream",
     "text": [
      "Training GNN: 100%|██████████| 300/300 [00:39<00:00,  7.56epoch/s]\n"
     ]
    },
    {
     "name": "stdout",
     "output_type": "stream",
     "text": [
      "Model Sage-32 test accuracy: 0.5789\n",
      ">>> Training Sage-32-16 model\n"
     ]
    },
    {
     "name": "stderr",
     "output_type": "stream",
     "text": [
      "Training GNN: 100%|██████████| 300/300 [01:23<00:00,  3.60epoch/s]\n"
     ]
    },
    {
     "name": "stdout",
     "output_type": "stream",
     "text": [
      "Model Sage-32-16 test accuracy: 0.6316\n",
      ">>> Training Sage-128-8 model\n"
     ]
    },
    {
     "name": "stderr",
     "output_type": "stream",
     "text": [
      "Training GNN: 100%|██████████| 300/300 [01:29<00:00,  3.34epoch/s]\n"
     ]
    },
    {
     "name": "stdout",
     "output_type": "stream",
     "text": [
      "Model Sage-128-8 test accuracy: 0.7895\n",
      "===== Best model for sage is Sage-128-8 with accuracy 0.7894736842105263 =====\n",
      "\n",
      "Best performing models metadata: {'conv': [[256, 16, 8], [], [], 'Conv-256-16-8', 1e-05], 'attn': [[], [16, 4], [], 'Attn-16-4', 1e-05], 'sage': [[], [], [(128, MaxPoolAggregation()), (8, MaxPoolAggregation())], 'Sage-128-8', 1e-05]}\n"
     ]
    },
    {
     "data": {
      "image/png": "[encoded data removed]",
      "text/plain": [
       "<Figure size 800x1000 with 6 Axes>"
      ]
     },
     "metadata": {},
     "output_type": "display_data"
    }
   ],
   "source": [
    "# Make sure to set the seeds for reproducibility\n",
    "random.seed(SEED)\n",
    "np.random.seed(SEED)\n",
    "torch.manual_seed(SEED)\n",
    "\n",
    "# Define the hyperparameters\n",
    "epochs = 300\n",
    "criterion = nn.CrossEntropyLoss()\n",
    "\n",
    "# From experimental evaluation with various learning rates, we found that 0.00001 is the best\n",
    "# Also the usage of scheduler did not lead to better performance\n",
    "lr = 0.00001\n",
    "\n",
    "# Heuristically define the models to test\n",
    "gnn = [\n",
    "    GNN(\n",
    "        MUTAG_NUM_FEATURES,\n",
    "        MUTAG_NUM_CLASSES,\n",
    "        normal_conv_dims=[256, 16, 8],\n",
    "        attn_dims=[],\n",
    "        sage_data=[],\n",
    "        dropout=0.3,\n",
    "    ),\n",
    "    GNN(\n",
    "        MUTAG_NUM_FEATURES,\n",
    "        MUTAG_NUM_CLASSES,\n",
    "        normal_conv_dims=[256, 168],\n",
    "        attn_dims=[],\n",
    "        sage_data=[],\n",
    "        dropout=0.3,\n",
    "    ),\n",
    "    GNN(\n",
    "        MUTAG_NUM_FEATURES,\n",
    "        MUTAG_NUM_CLASSES,\n",
    "        normal_conv_dims=[16, 4],\n",
    "        attn_dims=[],\n",
    "        sage_data=[],\n",
    "        dropout=0.3,\n",
    "    ),\n",
    "    GNN(\n",
    "        MUTAG_NUM_FEATURES,\n",
    "        MUTAG_NUM_CLASSES,\n",
    "        normal_conv_dims=[32, 12],\n",
    "        attn_dims=[],\n",
    "        sage_data=[],\n",
    "        dropout=0.3,\n",
    "    ),\n",
    "]\n",
    "\n",
    "attn = [\n",
    "    GNN(\n",
    "        MUTAG_NUM_FEATURES,\n",
    "        MUTAG_NUM_CLASSES,\n",
    "        normal_conv_dims=[],\n",
    "        attn_dims=[32, 8],\n",
    "        sage_data=[],\n",
    "        dropout=0.3,\n",
    "    ),\n",
    "    GNN(\n",
    "        MUTAG_NUM_FEATURES,\n",
    "        MUTAG_NUM_CLASSES,\n",
    "        normal_conv_dims=[],\n",
    "        attn_dims=[256, 16],\n",
    "        sage_data=[],\n",
    "        dropout=0.3,\n",
    "    ),\n",
    "    GNN(\n",
    "        MUTAG_NUM_FEATURES,\n",
    "        MUTAG_NUM_CLASSES,\n",
    "        normal_conv_dims=[],\n",
    "        attn_dims=[16, 4],\n",
    "        sage_data=[],\n",
    "        dropout=0.3,\n",
    "    ),\n",
    "    GNN(\n",
    "        MUTAG_NUM_FEATURES,\n",
    "        MUTAG_NUM_CLASSES,\n",
    "        normal_conv_dims=[],\n",
    "        attn_dims=[32, 12],\n",
    "        sage_data=[],\n",
    "        dropout=0.3,\n",
    "    ),\n",
    "]\n",
    "\n",
    "sage = [\n",
    "    GNN(\n",
    "        MUTAG_NUM_FEATURES,\n",
    "        MUTAG_NUM_CLASSES,\n",
    "        normal_conv_dims=[],\n",
    "        attn_dims=[],\n",
    "        sage_data=[(32, MaxPoolAggregation())],\n",
    "        dropout=0.3,\n",
    "    ),\n",
    "    GNN(\n",
    "        MUTAG_NUM_FEATURES,\n",
    "        MUTAG_NUM_CLASSES,\n",
    "        normal_conv_dims=[],\n",
    "        attn_dims=[],\n",
    "        sage_data=[(32, MaxPoolAggregation()), (16, MaxPoolAggregation())],\n",
    "        dropout=0.3,\n",
    "    ),\n",
    "    GNN(\n",
    "        MUTAG_NUM_FEATURES,\n",
    "        MUTAG_NUM_CLASSES,\n",
    "        normal_conv_dims=[],\n",
    "        attn_dims=[],\n",
    "        sage_data=[(128, MaxPoolAggregation()), (8, MaxPoolAggregation())],\n",
    "        dropout=0.3,\n",
    "    ),\n",
    "]\n",
    "\n",
    "# Keep the statistics and the best model params in a dictionary to use later\n",
    "evaluation_set = {\"conv\": gnn, \"attn\": attn, \"sage\": sage}\n",
    "best_perfoming_models_metadata = {}\n",
    "\n",
    "plotting_data = {}\n",
    "\n",
    "# Start the training and evalution!\n",
    "for nn_type in evaluation_set:\n",
    "    accuracies = []\n",
    "    f1_scores = []\n",
    "    labels = []\n",
    "\n",
    "    # Training routine for each model\n",
    "    for model in evaluation_set[nn_type]:\n",
    "        print(f\">>> Training {model.name} model\")\n",
    "\n",
    "        optimizer = torch.optim.Adam(model.parameters(), lr=lr)\n",
    "        scheduler = torch.optim.lr_scheduler.ExponentialLR(optimizer, gamma=0.9)\n",
    "\n",
    "        # Train the model\n",
    "        results = train_utils.train_model(\n",
    "            model,\n",
    "            train_dataloader,\n",
    "            val_dataloader,\n",
    "            epochs,\n",
    "            criterion,\n",
    "            optimizer,\n",
    "            verbose=False,\n",
    "            # scheduler=scheduler, # Uncomment to use scheduler\n",
    "        )\n",
    "\n",
    "        # Test the model\n",
    "        test_acc, _, test_f1_score, mutagenic, non_mutagenic = train_utils.test(\n",
    "            test_dataloader, model, criterion\n",
    "        )\n",
    "\n",
    "        # Print the result and update stats\n",
    "        print(f\"Model {model.name} test accuracy: {test_acc:.4f}\")\n",
    "\n",
    "        accuracies.append(test_acc)\n",
    "        f1_scores.append(test_f1_score)\n",
    "        labels.append(model.name)\n",
    "\n",
    "    # Find the best model for this type of architecture and keep its params\n",
    "    best_acc = max(accuracies)\n",
    "    best_acc_index = accuracies.index(best_acc)\n",
    "    best_model = evaluation_set[nn_type][best_acc_index]\n",
    "    print(\n",
    "        f\"===== Best model for {nn_type} is {best_model.name} with accuracy {best_acc} =====\"\n",
    "    )\n",
    "\n",
    "    best_perfoming_models_metadata[nn_type] = [\n",
    "        best_model.normal_conv_dims,\n",
    "        best_model.attn_dims,\n",
    "        best_model.sage_data,\n",
    "        best_model.name,\n",
    "        lr,\n",
    "    ]\n",
    "\n",
    "    # Keep the stats for plotting\n",
    "    plotting_data[nn_type] = [accuracies, f1_scores, labels]\n",
    "\n",
    "    print()\n",
    "\n",
    "# Plot the results and print the best models\n",
    "utils.plot_model_comparison_subfigs(plotting_data)\n",
    "print(\"Best performing models metadata:\", best_perfoming_models_metadata)"
   ]
  },
  {
   "cell_type": "markdown",
   "metadata": {},
   "source": [
    "### Evaluation: Compare different architectures\n",
    "\n",
    "Now that we have an idea of suitable layers, output features and learning rates, we compare the best-performing models of each architecure, as well as combinations of them.\n"
   ]
  },
  {
   "cell_type": "code",
   "execution_count": 18,
   "metadata": {},
   "outputs": [
    {
     "name": "stdout",
     "output_type": "stream",
     "text": [
      ">>>> Training model: Conv-256-16-8\n"
     ]
    },
    {
     "name": "stderr",
     "output_type": "stream",
     "text": [
      "Training GNN: 100%|██████████| 300/300 [00:17<00:00, 17.45epoch/s]\n"
     ]
    },
    {
     "name": "stdout",
     "output_type": "stream",
     "text": [
      "Model Conv-256-16-8 test accuracy: 0.6316 and F1: 0.6316\n",
      "\n",
      ">>>> Training model: Attn-16-4\n"
     ]
    },
    {
     "name": "stderr",
     "output_type": "stream",
     "text": [
      "Training GNN: 100%|██████████| 300/300 [00:16<00:00, 18.69epoch/s]\n"
     ]
    },
    {
     "name": "stdout",
     "output_type": "stream",
     "text": [
      "Model Attn-16-4 test accuracy: 0.4737 and F1: 0.6429\n",
      "\n",
      ">>>> Training model: Sage-128-8\n"
     ]
    },
    {
     "name": "stderr",
     "output_type": "stream",
     "text": [
      "Training GNN: 100%|██████████| 300/300 [01:30<00:00,  3.30epoch/s]\n"
     ]
    },
    {
     "name": "stdout",
     "output_type": "stream",
     "text": [
      "Model Sage-128-8 test accuracy: 0.7895 and F1: 0.7500\n",
      "\n",
      ">>>> Training model: ConvAttn\n"
     ]
    },
    {
     "name": "stderr",
     "output_type": "stream",
     "text": [
      "Training GNN: 100%|██████████| 300/300 [00:27<00:00, 10.82epoch/s]\n"
     ]
    },
    {
     "name": "stdout",
     "output_type": "stream",
     "text": [
      "Model ConvAttn test accuracy: 0.6316 and F1: 0.6316\n",
      "\n",
      ">>>> Training model: ConvAttnSage\n"
     ]
    },
    {
     "name": "stderr",
     "output_type": "stream",
     "text": [
      "Training GNN: 100%|██████████| 300/300 [01:59<00:00,  2.51epoch/s]\n"
     ]
    },
    {
     "name": "stdout",
     "output_type": "stream",
     "text": [
      "Model ConvAttnSage test accuracy: 0.6316 and F1: 0.6667\n",
      "\n",
      ">>>> Training model: ConvSage\n"
     ]
    },
    {
     "name": "stderr",
     "output_type": "stream",
     "text": [
      "Training GNN: 100%|██████████| 300/300 [01:59<00:00,  2.52epoch/s]\n"
     ]
    },
    {
     "name": "stdout",
     "output_type": "stream",
     "text": [
      "Model ConvSage test accuracy: 0.7368 and F1: 0.7619\n",
      "\n",
      ">>>> Training model: AttnSage\n"
     ]
    },
    {
     "name": "stderr",
     "output_type": "stream",
     "text": [
      "Training GNN: 100%|██████████| 300/300 [01:48<00:00,  2.77epoch/s]"
     ]
    },
    {
     "name": "stdout",
     "output_type": "stream",
     "text": [
      "Model AttnSage test accuracy: 0.4737 and F1: 0.6429\n",
      "\n",
      "\n",
      "======== RESULTS =========\n",
      "Best model: Sage-128-8\n",
      "Accuracy: 0.7895\n",
      "F1 Score: 0.7500\n"
     ]
    },
    {
     "name": "stderr",
     "output_type": "stream",
     "text": [
      "\n"
     ]
    },
    {
     "data": {
      "image/png": "[encoded data removed]",
      "text/plain": [
       "<Figure size 800x300 with 2 Axes>"
      ]
     },
     "metadata": {},
     "output_type": "display_data"
    }
   ],
   "source": [
    "# Lists to keep the performance of the models\n",
    "accuracies = []\n",
    "f1_scores = []\n",
    "labels = []\n",
    "\n",
    "# Best models for each architecture and combination of them\n",
    "# The models are stored in the format: (learning_rate, model)\n",
    "models = [\n",
    "    (\n",
    "        best_perfoming_models_metadata[\"conv\"][4],\n",
    "        GNN(\n",
    "            num_features=MUTAG_NUM_FEATURES,\n",
    "            num_classes=MUTAG_NUM_CLASSES,\n",
    "            normal_conv_dims=best_perfoming_models_metadata[\"conv\"][0],\n",
    "            attn_dims=best_perfoming_models_metadata[\"conv\"][1],\n",
    "            sage_data=best_perfoming_models_metadata[\"conv\"][2],\n",
    "            name=best_perfoming_models_metadata[\"conv\"][3],\n",
    "        ),\n",
    "    ),\n",
    "    (\n",
    "        best_perfoming_models_metadata[\"attn\"][4],\n",
    "        GNN(\n",
    "            num_features=MUTAG_NUM_FEATURES,\n",
    "            num_classes=MUTAG_NUM_CLASSES,\n",
    "            normal_conv_dims=best_perfoming_models_metadata[\"attn\"][0],\n",
    "            attn_dims=best_perfoming_models_metadata[\"attn\"][1],\n",
    "            sage_data=best_perfoming_models_metadata[\"attn\"][2],\n",
    "            name=best_perfoming_models_metadata[\"attn\"][3],\n",
    "        ),\n",
    "    ),\n",
    "    (\n",
    "        best_perfoming_models_metadata[\"sage\"][4],\n",
    "        GNN(\n",
    "            num_features=MUTAG_NUM_FEATURES,\n",
    "            num_classes=MUTAG_NUM_CLASSES,\n",
    "            normal_conv_dims=best_perfoming_models_metadata[\"sage\"][0],\n",
    "            attn_dims=best_perfoming_models_metadata[\"sage\"][1],\n",
    "            sage_data=best_perfoming_models_metadata[\"sage\"][2],\n",
    "            name=best_perfoming_models_metadata[\"sage\"][3],\n",
    "        ),\n",
    "    ),\n",
    "    (\n",
    "        best_perfoming_models_metadata[\"conv\"][4],\n",
    "        GNN(\n",
    "            num_features=MUTAG_NUM_FEATURES,\n",
    "            num_classes=MUTAG_NUM_CLASSES,\n",
    "            normal_conv_dims=best_perfoming_models_metadata[\"conv\"][0],\n",
    "            attn_dims=best_perfoming_models_metadata[\"attn\"][1],\n",
    "            sage_data=[],\n",
    "            name=\"ConvAttn\",\n",
    "        ),\n",
    "    ),\n",
    "    (\n",
    "        best_perfoming_models_metadata[\"conv\"][4],\n",
    "        GNN(\n",
    "            num_features=MUTAG_NUM_FEATURES,\n",
    "            num_classes=MUTAG_NUM_CLASSES,\n",
    "            normal_conv_dims=best_perfoming_models_metadata[\"conv\"][0],\n",
    "            attn_dims=best_perfoming_models_metadata[\"attn\"][1],\n",
    "            sage_data=best_perfoming_models_metadata[\"sage\"][2],\n",
    "            name=\"ConvAttnSage\",\n",
    "        ),\n",
    "    ),\n",
    "    (\n",
    "        best_perfoming_models_metadata[\"conv\"][4],\n",
    "        GNN(\n",
    "            num_features=MUTAG_NUM_FEATURES,\n",
    "            num_classes=MUTAG_NUM_CLASSES,\n",
    "            normal_conv_dims=best_perfoming_models_metadata[\"conv\"][0],\n",
    "            attn_dims=[],\n",
    "            sage_data=best_perfoming_models_metadata[\"sage\"][2],\n",
    "            name=\"ConvSage\",\n",
    "        ),\n",
    "    ),\n",
    "    (\n",
    "        best_perfoming_models_metadata[\"attn\"][4],\n",
    "        GNN(\n",
    "            num_features=MUTAG_NUM_FEATURES,\n",
    "            num_classes=MUTAG_NUM_CLASSES,\n",
    "            normal_conv_dims=[],\n",
    "            attn_dims=best_perfoming_models_metadata[\"attn\"][1],\n",
    "            sage_data=best_perfoming_models_metadata[\"sage\"][2],\n",
    "            name=\"AttnSage\",\n",
    "        ),\n",
    "    ),\n",
    "]\n",
    "\n",
    "# Retrain and evaluate the best models!\n",
    "for lr, model in models:\n",
    "    print(\">>>> Training model:\", model.name)\n",
    "\n",
    "    optimizer = torch.optim.Adam(model.parameters(), lr=lr)\n",
    "    scheduler = torch.optim.lr_scheduler.ExponentialLR(optimizer, gamma=0.9)\n",
    "\n",
    "    # Train the model (with the same parameters as before to ensure reproducibility)\n",
    "    results = train_utils.train_model(\n",
    "        model,\n",
    "        train_dataloader,\n",
    "        val_dataloader,\n",
    "        epochs,\n",
    "        criterion,\n",
    "        optimizer,\n",
    "        verbose=False,\n",
    "        # scheduler=scheduler, # Uncomment to use scheduler\n",
    "    )\n",
    "\n",
    "    # Test the model and keep the results\n",
    "    acc, _, f1, _, _ = train_utils.test(test_dataloader, model, criterion)\n",
    "    print(f\"Model {model.name} test accuracy: {acc:.4f} and F1: {f1:.4f}\")\n",
    "\n",
    "    accuracies.append(acc)\n",
    "    f1_scores.append(f1)\n",
    "    labels.append(model.name)\n",
    "\n",
    "    print()\n",
    "\n",
    "# All the models are trained and evaluated. Lets find the best one and plot the results!\n",
    "# Find the best model according to the accuracy\n",
    "best_acc = max(accuracies)\n",
    "best_acc_index = accuracies.index(best_acc)\n",
    "\n",
    "print()\n",
    "print(\"======== RESULTS =========\")\n",
    "print(f\"Best model: {labels[best_acc_index]}\")\n",
    "print(f\"Accuracy: {best_acc:.4f}\")\n",
    "print(f\"F1 Score: {f1_scores[best_acc_index]:.4f}\")\n",
    "\n",
    "# Plot all!\n",
    "utils.plot_model_comparison_results(accuracies, f1_scores, labels)"
   ]
  },
  {
   "cell_type": "markdown",
   "metadata": {},
   "source": [
    "From our evaluation of several different models and architecture combinations, we conclude that the best model is a <b>2-layer GraphSAGE network with output features of 128,8 for each layer, achieving 79% accuracy and 75% f1 score!</b>"
   ]
  },
  {
   "cell_type": "markdown",
   "metadata": {},
   "source": [
    "## Part 3 : Incorporating Edge Features 👨🏽‍💻\n",
    "\n",
    "Till now, we have performed our training and prediction using the graph structure and the node features available from MUTAG. Now, we will focus on methods to incorporate the edge features in our predictions. "
   ]
  },
  {
   "cell_type": "markdown",
   "metadata": {},
   "source": [
    "### Calculate the per node edge features and create a new feature matrix through concat! "
   ]
  },
  {
   "cell_type": "code",
   "execution_count": 19,
   "metadata": {},
   "outputs": [
    {
     "name": "stderr",
     "output_type": "stream",
     "text": [
      "Found cached dataset json (/Users/manoschatzakis/.cache/huggingface/datasets/graphs-datasets___json/graphs-datasets--MUTAG-a0cf78a2615b5c11/0.0.0/e347ab1c932092252e717ff3f949105a4dd28b27e842dd53157d2f72e276c2e4)\n"
     ]
    },
    {
     "data": {
      "application/vnd.jupyter.widget-view+json": {
       "model_id": "334114e129ee4159a519a9f09e0130f3",
       "version_major": 2,
       "version_minor": 0
      },
      "text/plain": [
       "  0%|          | 0/1 [00:00<?, ?it/s]"
      ]
     },
     "metadata": {},
     "output_type": "display_data"
    },
    {
     "name": "stderr",
     "output_type": "stream",
     "text": [
      "Generating concat features: 100%|██████████| 126/126 [00:01<00:00, 112.85it/s]"
     ]
    },
    {
     "name": "stdout",
     "output_type": "stream",
     "text": [
      "Generated concat features for all graphs of MUTAG!\n"
     ]
    },
    {
     "name": "stderr",
     "output_type": "stream",
     "text": [
      "\n"
     ]
    }
   ],
   "source": [
    "# Reload the data! (It is easier than to re-run the data-loading cell of part 2)\n",
    "mutag_data = utils.load_and_balance_MUTAG()\n",
    "\n",
    "# Uncomment the following line to use the unbalanced dataset\n",
    "# mutag_data = utils.load_MUTAG()\n",
    "\n",
    "# Compute and generate edge features per-node\n",
    "for mutag_graph in tqdm(mutag_data, desc=\"Generating concat features\"):\n",
    "    # Generate the edge features for each node (as described in the report)\n",
    "    # Briefly: Create a matrix of the edge features that the node participates in the shape (num_node_edges, num_edge_features)\n",
    "    # Perform a mean pooling operation to the matrix and transform it to (1, num_edge_features)\n",
    "    # Concat the generated result to the node features of the node\n",
    "    per_node_edge_features = utils.generate_per_node_edge_features(mutag_graph)\n",
    "\n",
    "    node_features = mutag_graph[\"node_feat\"]\n",
    "    concat_features = torch.cat((node_features, per_node_edge_features), dim=1)\n",
    "\n",
    "    # Store the new features in the graph sample\n",
    "    mutag_graph[\"concat_feats\"] = concat_features\n",
    "\n",
    "print(\"Generated concat features for all graphs of MUTAG!\")"
   ]
  },
  {
   "cell_type": "markdown",
   "metadata": {},
   "source": [
    "### Re-create the train-test-split sets for the dataset!\n",
    "\n",
    "Since we reloaded the data, we need to recreate the testing sets! As seeds are set to a constant value, the sets will be the same as part 2."
   ]
  },
  {
   "cell_type": "code",
   "execution_count": 20,
   "metadata": {},
   "outputs": [
    {
     "name": "stdout",
     "output_type": "stream",
     "text": [
      "Number of graphs: 126\n",
      "Number of training graphs: 88\n",
      "Number of validation graphs: 19\n",
      "Number of test graphs: 19\n",
      "Data keys: dict_keys(['edge_index', 'node_feat', 'edge_attr', 'y', 'num_nodes', 'adjacency_matrix', 'adjacency_matrix_raw', 'concat_feats'])\n"
     ]
    }
   ],
   "source": [
    "# Define the new number of features and classes, and split the data\n",
    "MUTAG_NUM_CLASSES = 2\n",
    "MUTAG_NUM_FEATURES = mutag_data[0][\"concat_feats\"].shape[1]\n",
    "\n",
    "mutag_train, mutag_val, mutag_test = utils.fair_train_test_split(mutag_data, 0.7, 0.15)\n",
    "\n",
    "# Print some stats\n",
    "print(\"Number of graphs:\", len(mutag_data))\n",
    "print(\"Number of training graphs:\", len(mutag_train))\n",
    "print(\"Number of validation graphs:\", len(mutag_val))\n",
    "print(\"Number of test graphs:\", len(mutag_test))\n",
    "print(\"Data keys:\", mutag_data[0].keys())\n",
    "\n",
    "# Define the dataloaders\n",
    "train_dataloader = DataLoader(mutag_train, batch_size=1, shuffle=False)\n",
    "val_dataloader = DataLoader(mutag_val, batch_size=1, shuffle=False)\n",
    "test_dataloader = DataLoader(mutag_test, batch_size=1, shuffle=False)"
   ]
  },
  {
   "cell_type": "markdown",
   "metadata": {},
   "source": [
    "### Train and Test the best performing neural network from the previous section!\n",
    "\n",
    "We will use the best performing model of the previous section. This is a 2-layer GraphSAGE model, with output sizes of (128, 8) and lr=0.0001. We will retrain the model, using the enhanced feature matrix."
   ]
  },
  {
   "cell_type": "code",
   "execution_count": 21,
   "metadata": {},
   "outputs": [
    {
     "name": "stderr",
     "output_type": "stream",
     "text": [
      "Training GNN:   0%|          | 1/300 [00:00<01:36,  3.10epoch/s]"
     ]
    },
    {
     "name": "stdout",
     "output_type": "stream",
     "text": [
      "0: Train Loss: 0.6962, Val Loss: 0.6931, Train Accuracy 0.5000, Val Accuracy: 0.5263, Train F1 Score: 0.6667, Val F1 Score: 0.6897\n"
     ]
    },
    {
     "name": "stderr",
     "output_type": "stream",
     "text": [
      "Training GNN:  17%|█▋        | 51/300 [00:16<01:27,  2.85epoch/s]"
     ]
    },
    {
     "name": "stdout",
     "output_type": "stream",
     "text": [
      "50: Train Loss: 0.6924, Val Loss: 0.6899, Train Accuracy 0.5000, Val Accuracy: 0.5263, Train F1 Score: 0.6667, Val F1 Score: 0.6897\n"
     ]
    },
    {
     "name": "stderr",
     "output_type": "stream",
     "text": [
      "Training GNN:  34%|███▎      | 101/300 [00:32<01:04,  3.08epoch/s]"
     ]
    },
    {
     "name": "stdout",
     "output_type": "stream",
     "text": [
      "100: Train Loss: 0.6888, Val Loss: 0.6865, Train Accuracy 0.5227, Val Accuracy: 0.5263, Train F1 Score: 0.6769, Val F1 Score: 0.6897\n"
     ]
    },
    {
     "name": "stderr",
     "output_type": "stream",
     "text": [
      "Training GNN:  50%|█████     | 151/300 [00:49<00:46,  3.17epoch/s]"
     ]
    },
    {
     "name": "stdout",
     "output_type": "stream",
     "text": [
      "150: Train Loss: 0.6851, Val Loss: 0.6824, Train Accuracy 0.6250, Val Accuracy: 0.5789, Train F1 Score: 0.7130, Val F1 Score: 0.6923\n"
     ]
    },
    {
     "name": "stderr",
     "output_type": "stream",
     "text": [
      "Training GNN:  67%|██████▋   | 201/300 [01:04<00:31,  3.16epoch/s]"
     ]
    },
    {
     "name": "stdout",
     "output_type": "stream",
     "text": [
      "200: Train Loss: 0.6795, Val Loss: 0.6773, Train Accuracy 0.6591, Val Accuracy: 0.6842, Train F1 Score: 0.6939, Val F1 Score: 0.7500\n"
     ]
    },
    {
     "name": "stderr",
     "output_type": "stream",
     "text": [
      "Training GNN:  84%|████████▎ | 251/300 [01:20<00:15,  3.22epoch/s]"
     ]
    },
    {
     "name": "stdout",
     "output_type": "stream",
     "text": [
      "250: Train Loss: 0.6705, Val Loss: 0.6718, Train Accuracy 0.6932, Val Accuracy: 0.6316, Train F1 Score: 0.7158, Val F1 Score: 0.6957\n"
     ]
    },
    {
     "name": "stderr",
     "output_type": "stream",
     "text": [
      "Training GNN: 100%|██████████| 300/300 [01:35<00:00,  3.14epoch/s]"
     ]
    },
    {
     "name": "stdout",
     "output_type": "stream",
     "text": [
      "299: Train Loss: 0.6724, Val Loss: 0.6666, Train Accuracy 0.5341, Val Accuracy: 0.7368, Train F1 Score: 0.5287, Val F1 Score: 0.7619\n",
      "\n",
      "======== RESULTS =========\n",
      "Accuracy: 0.6316\n",
      "F1 Score: 0.6667\n"
     ]
    },
    {
     "name": "stderr",
     "output_type": "stream",
     "text": [
      "\n"
     ]
    },
    {
     "data": {
      "image/png": "[encoded data removed]",
      "text/plain": [
       "<Figure size 1200x400 with 3 Axes>"
      ]
     },
     "metadata": {},
     "output_type": "display_data"
    }
   ],
   "source": [
    "# Those model data are kept from the previius part to ensure smooth model creation\n",
    "# If you want to run only part3, use the following params:\n",
    "\n",
    "# lr = 0.00001\n",
    "# model = GNN(\n",
    "#    num_features=MUTAG_NUM_FEATURES,\n",
    "#    num_classes=MUTAG_NUM_CLASSES,\n",
    "#    normal_conv_dims=[],\n",
    "#    attn_dims=[],\n",
    "#    sage_data=[(128, MaxPoolAggregation()), (8, MaxPoolAggregation())],\n",
    "#    name=\"GNN-Edge-Features\",\n",
    "# )\n",
    "\n",
    "lr = best_perfoming_models_metadata[\"sage\"][4]\n",
    "\n",
    "model = GNN(\n",
    "    num_features=MUTAG_NUM_FEATURES,\n",
    "    num_classes=MUTAG_NUM_CLASSES,\n",
    "    normal_conv_dims=best_perfoming_models_metadata[\"sage\"][0],\n",
    "    attn_dims=best_perfoming_models_metadata[\"sage\"][1],\n",
    "    sage_data=best_perfoming_models_metadata[\"sage\"][2],\n",
    "    name=\"GNN-Edge-Features\",\n",
    ")\n",
    "\n",
    "# Set the hyperparameters\n",
    "epochs = 300\n",
    "verbose = True\n",
    "criterion = nn.CrossEntropyLoss()\n",
    "features_key = \"concat_feats\"\n",
    "\n",
    "# Initialize the optimizer and scheduler\n",
    "optimizer = torch.optim.Adam(model.parameters(), lr=lr)\n",
    "scheduler = torch.optim.lr_scheduler.ExponentialLR(optimizer, gamma=0.9)\n",
    "\n",
    "# Train the new model\n",
    "results = train_utils.train_model(\n",
    "    model,\n",
    "    train_dataloader,\n",
    "    val_dataloader,\n",
    "    epochs,\n",
    "    criterion,\n",
    "    optimizer,\n",
    "    verbose,\n",
    "    features_key,\n",
    "    # scheduler, # Uncomment to use scheduler\n",
    ")\n",
    "\n",
    "# Calculate and examine the results\n",
    "acc, _, f1, _, _ = train_utils.test(test_dataloader, model, criterion, features_key)\n",
    "\n",
    "print()\n",
    "print(\"======== RESULTS =========\")\n",
    "print(f\"Accuracy: {acc:.4f}\")\n",
    "print(f\"F1 Score: {f1:.4f}\")\n",
    "\n",
    "# And also plot the training results!\n",
    "utils.plot_training_loop_summary(results, None)"
   ]
  },
  {
   "cell_type": "markdown",
   "metadata": {},
   "source": [
    "We see that the enhanced feature matrix leads to worse performance compared to using only the node features, as the new model scores 63% accuracy, while the initial model using only the node features managed to achieve up to 79% accuracy on the same testing data."
   ]
  }
 ],
 "metadata": {
  "kernelspec": {
   "display_name": "base",
   "language": "python",
   "name": "python3"
  },
  "language_info": {
   "codemirror_mode": {
    "name": "ipython",
    "version": 3
   },
   "file_extension": ".py",
   "mimetype": "text/x-python",
   "name": "python",
   "nbconvert_exporter": "python",
   "pygments_lexer": "ipython3",
   "version": "3.11.5"
  }
 },
 "nbformat": 4,
 "nbformat_minor": 2
}
